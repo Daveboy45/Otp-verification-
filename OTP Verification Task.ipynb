{
 "cells": [
  {
   "cell_type": "code",
   "execution_count": 1,
   "id": "2d507d8e",
   "metadata": {},
   "outputs": [],
   "source": [
    "import pyotp\n",
    "import base64\n",
    "import os\n",
    "\n",
    "def generate_base32_secret_key():\n",
    "    # Generate a random byte string (make sure it's a multiple of 8 bytes)\n",
    "    random_bytes = os.urandom(16)\n",
    "\n",
    "    # Encode the random byte string in base32\n",
    "    base32_encoded = base64.b32encode(random_bytes).decode('utf-8')\n",
    "\n",
    "    return base32_encoded\n",
    "\n",
    "def generate_otp(secret_key):\n",
    "    totp = pyotp.TOTP(secret_key)\n",
    "    return totp.now()\n",
    "\n",
    "def verify_otp(secret_key, user_input):\n",
    "    totp = pyotp.TOTP(secret_key)\n",
    "    return totp.verify(user_input)\n",
    "\n",
    "def main():\n",
    "    secret_key = generate_base32_secret_key()  \n",
    "\n",
    "    # Generate and display the OTP\n",
    "    otp = generate_otp(secret_key)\n",
    "    print(\"Generated OTP:\", otp)\n",
    "\n",
    "    # Simulate user input\n",
    "    user_input = input(\"Enter the OTP for verification: \")\n",
    "\n",
    "    # Verify the OTP\n",
    "    if verify_otp(secret_key, user_input):\n",
    "        print(\"OTP is valid. Account verified!\")\n",
    "    else:\n",
    "        print(\"Invalid OTP. Account verification failed.\")\n"
   ]
  },
  {
   "cell_type": "code",
   "execution_count": 2,
   "id": "8533472f",
   "metadata": {},
   "outputs": [],
   "source": [
    "accounts= {}"
   ]
  },
  {
   "cell_type": "code",
   "execution_count": 14,
   "id": "9d0d31b2",
   "metadata": {},
   "outputs": [],
   "source": [
    "def signup():\n",
    "    while True:\n",
    "        firstname = input('First Name: ')\n",
    "        lastname = input('Last Name: ')\n",
    "        username = input('Username: ')\n",
    "        password = input('Password: ')\n",
    "        confirm_pass = input('Confirm Password')\n",
    "        if confirm_pass == password:\n",
    "            print('Correct password\\nYour account has been created successfully!')\n",
    "            accounts[username] = {}\n",
    "            accounts[username]['lastname'] = lastname\n",
    "            accounts[username]['firstname'] = firstname\n",
    "            accounts[username]['password'] = password\n",
    "            break\n",
    "        else:\n",
    "            print('Incorrect password try again')\n",
    "           \n",
    "            \n",
    "def login():\n",
    "    while True:\n",
    "        username1 = input('Username\\n')\n",
    "        password1 = input('Password\\n')\n",
    "        if username1 in accounts.keys():\n",
    "            if accounts[username1]['password'] == password1:\n",
    "                print('Login successful')\n",
    "                inp = input('Press enter to proceed to OTP verification')\n",
    "                x = 1\n",
    "                while x == 1:\n",
    "                    secret_key = generate_base32_secret_key()  \n",
    "\n",
    "                    # Generate and display the OTP\n",
    "                    otp = generate_otp(secret_key)\n",
    "                    print(\"Generated OTP:\", otp)\n",
    "\n",
    "                    # Simulate user input\n",
    "                    user_input = input(\"Enter the OTP for verification: \")\n",
    "\n",
    "                    # Verify the OTP\n",
    "                    if verify_otp(secret_key, user_input):\n",
    "                        print(\"OTP is valid. Account verified!\")\n",
    "                        print(f\"Welcome to {accounts[username1]['lastname']} {accounts[username1]['firstname']}'s Portal'\")\n",
    "                        break\n",
    "                    else:\n",
    "                        print(\"Invalid OTP. Account verification failed.\")\n",
    "                    \n",
    "                break\n",
    "                \n",
    "            else:\n",
    "                print('Incorrect Password')\n",
    "                back = input('Back to home \\n1)Yes \\n2)No')\n",
    "                if back.lower == 'yes':\n",
    "                    break\n",
    "                elif back.lower == 'no':\n",
    "                    pass\n",
    "        else:\n",
    "            print('Username not found!')\n",
    "            back = input('Back to home \\n1)Yes \\n2)No')\n",
    "            if back.lower == 'yes':\n",
    "                break\n",
    "            elif back.lower == 'no':\n",
    "                pass\n",
    "            \n",
    "def main():\n",
    "    while True:\n",
    "        print(\"Welcome to David's App!\")\n",
    "        choose = input('Modes \\n1)Signup \\n2)Login \\n')\n",
    "        if choose == '1':\n",
    "            signup()\n",
    "        elif choose == '2':\n",
    "            login()\n",
    "            signout = input('Signout \\n1)Yes \\n2)No')\n",
    "            if signout.lower() =='yes':\n",
    "                break\n",
    "            else:\n",
    "                print('Enjoy the application')\n",
    "        else:\n",
    "            print('Incorrect selection')"
   ]
  },
  {
   "cell_type": "code",
   "execution_count": null,
   "id": "71d19198",
   "metadata": {},
   "outputs": [
    {
     "name": "stdout",
     "output_type": "stream",
     "text": [
      "Welcome to David's App!\n"
     ]
    }
   ],
   "source": [
    "main() "
   ]
  },
  {
   "cell_type": "code",
   "execution_count": null,
   "id": "8c8593be",
   "metadata": {},
   "outputs": [],
   "source": [
    "\n"
   ]
  },
  {
   "cell_type": "code",
   "execution_count": null,
   "id": "4031cba3",
   "metadata": {},
   "outputs": [],
   "source": []
  }
 ],
 "metadata": {
  "kernelspec": {
   "display_name": "Python 3 (ipykernel)",
   "language": "python",
   "name": "python3"
  },
  "language_info": {
   "codemirror_mode": {
    "name": "ipython",
    "version": 3
   },
   "file_extension": ".py",
   "mimetype": "text/x-python",
   "name": "python",
   "nbconvert_exporter": "python",
   "pygments_lexer": "ipython3",
   "version": "3.11.3"
  }
 },
 "nbformat": 4,
 "nbformat_minor": 5
}
